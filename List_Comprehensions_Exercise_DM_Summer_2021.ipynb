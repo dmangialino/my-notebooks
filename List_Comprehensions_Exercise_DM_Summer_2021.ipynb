{
  "nbformat": 4,
  "nbformat_minor": 0,
  "metadata": {
    "colab": {
      "name": "List Comprehensions Exercise - DM Summer 2021",
      "provenance": [],
      "collapsed_sections": [],
      "include_colab_link": true
    },
    "kernelspec": {
      "name": "python3",
      "display_name": "Python 3"
    }
  },
  "cells": [
    {
      "cell_type": "markdown",
      "metadata": {
        "id": "view-in-github",
        "colab_type": "text"
      },
      "source": [
        "<a href=\"https://colab.research.google.com/github/dmangialino/my-notebooks/blob/main/List_Comprehensions_Exercise_DM_Summer_2021.ipynb\" target=\"_parent\"><img src=\"https://colab.research.google.com/assets/colab-badge.svg\" alt=\"Open In Colab\"/></a>"
      ]
    },
    {
      "cell_type": "markdown",
      "metadata": {
        "id": "wThIawpS0Jyf"
      },
      "source": [
        "# Instructions\n",
        "\n",
        "Make a copy of this notebook so you can edit and save your own version of it. Do the work in your copy of the notebook.\n"
      ]
    },
    {
      "cell_type": "markdown",
      "metadata": {
        "id": "CxPYjQK9pfEK"
      },
      "source": [
        "# Prerequisites\n",
        "\n",
        "  + [Lists](https://github.com/prof-rossetti/intro-to-python/blob/master/notes/python/datatypes/lists.md)\n",
        "  + [List Comprehensions](https://docs.python.org/3/tutorial/datastructures.html?#list-comprehensions)"
      ]
    },
    {
      "cell_type": "markdown",
      "metadata": {
        "id": "10mRJKXD0Res"
      },
      "source": [
        "# Challenges\n",
        "\n",
        "In the corresponding code cells below, use list comprehensions  to transform the provided list (i.e. `my_numbers`) in each of the following ways:\n",
        "\n",
        "  1. Use mapping capabilities to multiply each number by 100 (e.g. `[100, 200, 300, 400, 500, 600, 700]`)\n",
        "  2. Use filtering capabilities to return only the numbers greater than three (e.g. `[4, 5, 6, 7]`)\n",
        "  3. Use filtering capabilities to return only the numbers greater than eight (e.g. `[]`)\n",
        "  4. Use mapping and filtering capabilities to return only the numbers greater than three, each multiplied by 100 (e.g. `[400, 500, 600, 700]`)\n",
        "\n",
        "Example final output:\n",
        "\n",
        "```\n",
        "--------------\n",
        "ORIGINAL LIST: [1, 2, 3, 4, 5, 6, 7]\n",
        "--------------\n",
        "1) MAPPED LIST: [100, 200, 300, 400, 500, 600, 700]\n",
        "--------------\n",
        "2) FILTERED LIST W/ MATCHES: [4, 5, 6, 7]\n",
        "--------------\n",
        "3) FILTERED LIST W/O MATCHES: []\n",
        "--------------\n",
        "4) MAPPED AND FILTERED LIST: [400, 500, 600, 700]\n",
        "```\n",
        "\n",
        "Spoiler Alert: [List Comprehensions Exercise Solution](https://github.com/prof-rossetti/intro-to-python/blob/master/exercises/list-comprehensions/solutions.py)"
      ]
    },
    {
      "cell_type": "code",
      "metadata": {
        "id": "QRlNine90jDn",
        "colab": {
          "base_uri": "https://localhost:8080/"
        },
        "outputId": "6f3646af-b34d-4162-f42c-53646dcfdad2"
      },
      "source": [
        "# leave this cell as-is\n",
        "\n",
        "my_numbers = [1, 2, 3, 4, 5, 6, 7]\n",
        "\n",
        "print(\"--------------\")\n",
        "print(\"ORIGINAL LIST:\", my_numbers)\n"
      ],
      "execution_count": 1,
      "outputs": [
        {
          "output_type": "stream",
          "text": [
            "--------------\n",
            "ORIGINAL LIST: [1, 2, 3, 4, 5, 6, 7]\n"
          ],
          "name": "stdout"
        }
      ]
    },
    {
      "cell_type": "code",
      "metadata": {
        "id": "OzIW7VKdlqRc",
        "colab": {
          "base_uri": "https://localhost:8080/"
        },
        "outputId": "cd6eb4f9-0807-468b-8854-d8a4d18c6833"
      },
      "source": [
        "\n",
        "#\n",
        "# 1) Use mapping capabilities to multiply each number by 100 (i.e. [100, 200, 300, 400, 500, 600, 700])\n",
        "# \n",
        "\n",
        "# TODO: write python code here\n",
        "\n",
        "# Create new empty list\n",
        "# Loop through original list and append / assemble some transfomered version of each item into the new list\n",
        "larger_numbers = []\n",
        "for number in my_numbers:\n",
        "  larger_numbers.append(number*100)\n",
        "\n",
        "# Print original and mapped lists\n",
        "print(\"--------------\")\n",
        "print(\"ORIGINAL LIST:\", my_numbers)\n",
        "print(\"--------------\")\n",
        "print(\"1) MAPPED LIST: \", larger_numbers)\n",
        "print(\"--------------\")"
      ],
      "execution_count": 15,
      "outputs": [
        {
          "output_type": "stream",
          "text": [
            "--------------\n",
            "ORIGINAL LIST: [1, 2, 3, 4, 5, 6, 7]\n",
            "--------------\n",
            "1) MAPPED LIST:  [100, 200, 300, 400, 500, 600, 700]\n",
            "--------------\n"
          ],
          "name": "stdout"
        }
      ]
    },
    {
      "cell_type": "code",
      "metadata": {
        "colab": {
          "base_uri": "https://localhost:8080/"
        },
        "id": "0cDEjl-88aNH",
        "outputId": "6417cc79-7ea8-45cb-d451-a9b42f76a92f"
      },
      "source": [
        "# Using list comprehesion\n",
        "print([item*100 for item in my_numbers])"
      ],
      "execution_count": 14,
      "outputs": [
        {
          "output_type": "stream",
          "text": [
            "[100, 200, 300, 400, 500, 600, 700]\n"
          ],
          "name": "stdout"
        }
      ]
    },
    {
      "cell_type": "code",
      "metadata": {
        "id": "NThBNlBfolYg",
        "colab": {
          "base_uri": "https://localhost:8080/"
        },
        "outputId": "d18bddba-c905-497e-9cd9-ba88e1d9a2cf"
      },
      "source": [
        "\n",
        "# \n",
        "# 2) Use filtering capabilities to return only the numbers greater than three (i.e. [4, 5, 6, 7])\n",
        "# \n",
        "\n",
        "# Loop through my_numbers and compare each to 3. If > 3, append to new filtered list\n",
        "greater_three = []\n",
        "for number in my_numbers:\n",
        "  if(number > 3):\n",
        "    greater_three.append(number)\n",
        "\n",
        "# Print original, mapped, and filtered lists\n",
        "print(\"--------------\")\n",
        "print(\"ORIGINAL LIST:\", my_numbers)\n",
        "print(\"--------------\")\n",
        "print(\"1) MAPPED LIST: \", larger_numbers)\n",
        "print(\"--------------\")\n",
        "print(\"FILTERED LIST W/ MATCHES:\", greater_three)\n",
        "print(\"--------------\")"
      ],
      "execution_count": 8,
      "outputs": [
        {
          "output_type": "stream",
          "text": [
            "--------------\n",
            "ORIGINAL LIST: [1, 2, 3, 4, 5, 6, 7]\n",
            "--------------\n",
            "1) MAPPED LIST:  [100, 200, 300, 400, 500, 600, 700]\n",
            "--------------\n",
            "FILTERED LIST W/ MATCHES: [4, 5, 6, 7]\n",
            "--------------\n"
          ],
          "name": "stdout"
        }
      ]
    },
    {
      "cell_type": "code",
      "metadata": {
        "colab": {
          "base_uri": "https://localhost:8080/"
        },
        "id": "03VR0bMp8hCC",
        "outputId": "4026d947-d811-42f4-d3ac-3c1d6711772a"
      },
      "source": [
        "# Using list comprehension\n",
        "print([item for item in my_numbers if item > 3])"
      ],
      "execution_count": 16,
      "outputs": [
        {
          "output_type": "stream",
          "text": [
            "[4, 5, 6, 7]\n"
          ],
          "name": "stdout"
        }
      ]
    },
    {
      "cell_type": "code",
      "metadata": {
        "id": "4sspG3HJouAB",
        "colab": {
          "base_uri": "https://localhost:8080/"
        },
        "outputId": "740c03e5-0e34-4a55-a46e-6971ba7172d0"
      },
      "source": [
        "\n",
        "#\n",
        "# 3) Use filtering capabilities to return only the numbers greater than eight (i.e. [] or empty list)\n",
        "#\n",
        "\n",
        "# Loop through my_numbers and compare each to 8. If > 8, append to new filtered list\n",
        "greater_eight = []\n",
        "for number in my_numbers:\n",
        "  if(number > 8):\n",
        "    greater_eight.append(number)\n",
        "\n",
        "# Print original, mapped, and both filtered lists\n",
        "print(\"--------------\")\n",
        "print(\"ORIGINAL LIST:\", my_numbers)\n",
        "print(\"--------------\")\n",
        "print(\"1) MAPPED LIST: \", larger_numbers)\n",
        "print(\"--------------\")\n",
        "print(\"FILTERED LIST W/ MATCHES:\", greater_three)\n",
        "print(\"--------------\")\n",
        "print(\"FILTERED LIST W/O MATCHES:\", greater_eight)\n",
        "print(\"--------------\")"
      ],
      "execution_count": 9,
      "outputs": [
        {
          "output_type": "stream",
          "text": [
            "--------------\n",
            "ORIGINAL LIST: [1, 2, 3, 4, 5, 6, 7]\n",
            "--------------\n",
            "1) MAPPED LIST:  [100, 200, 300, 400, 500, 600, 700]\n",
            "--------------\n",
            "FILTERED LIST W/ MATCHES: [4, 5, 6, 7]\n",
            "--------------\n",
            "FILTERED LIST W/O MATCHES: []\n",
            "--------------\n"
          ],
          "name": "stdout"
        }
      ]
    },
    {
      "cell_type": "code",
      "metadata": {
        "colab": {
          "base_uri": "https://localhost:8080/"
        },
        "id": "eJXygsn88opt",
        "outputId": "a11499f0-a174-4d8a-ecc9-d127a743ade8"
      },
      "source": [
        "# Using list comprehension\n",
        "print([item for item in my_numbers if item > 8])"
      ],
      "execution_count": 17,
      "outputs": [
        {
          "output_type": "stream",
          "text": [
            "[]\n"
          ],
          "name": "stdout"
        }
      ]
    },
    {
      "cell_type": "code",
      "metadata": {
        "id": "1g0bDhhmougK",
        "colab": {
          "base_uri": "https://localhost:8080/"
        },
        "outputId": "eae119c0-4ac7-462b-81e5-a66807ff44bf"
      },
      "source": [
        "#\n",
        "# 4) Use mapping and filtering capabilities to return only the numbers greater than three, each multiplied by 100 (i.e. [400, 500, 600, 700])\n",
        "#\n",
        "\n",
        "# Create new list. Loop through my_numbers, checking if each number is greater than 3\n",
        "# If the number is greater than 3, multiply by 100 and append to new list\n",
        "mapped_filtered = []\n",
        "for number in my_numbers:\n",
        "  if(number > 3):\n",
        "    mapped_filtered.append(number*100)\n",
        "\n",
        "# Print original, mapped, both filtered, and filtered & mapped lists\n",
        "print(\"--------------\")\n",
        "print(\"ORIGINAL LIST:\", my_numbers)\n",
        "print(\"--------------\")\n",
        "print(\"1) MAPPED LIST: \", larger_numbers)\n",
        "print(\"--------------\")\n",
        "print(\"FILTERED LIST W/ MATCHES:\", greater_three)\n",
        "print(\"--------------\")\n",
        "print(\"FILTERED LIST W/O MATCHES:\", greater_eight)\n",
        "print(\"--------------\")\n",
        "print(\"MAPPED AND FILTERED LIST:\", mapped_filtered)\n",
        "print(\"--------------\")"
      ],
      "execution_count": 11,
      "outputs": [
        {
          "output_type": "stream",
          "text": [
            "--------------\n",
            "ORIGINAL LIST: [1, 2, 3, 4, 5, 6, 7]\n",
            "--------------\n",
            "1) MAPPED LIST:  [100, 200, 300, 400, 500, 600, 700]\n",
            "--------------\n",
            "FILTERED LIST W/ MATCHES: [4, 5, 6, 7]\n",
            "--------------\n",
            "FILTERED LIST W/O MATCHES: []\n",
            "--------------\n",
            "MAPPED AND FILTERED LIST: [400, 500, 600, 700]\n",
            "--------------\n"
          ],
          "name": "stdout"
        }
      ]
    },
    {
      "cell_type": "code",
      "metadata": {
        "colab": {
          "base_uri": "https://localhost:8080/"
        },
        "id": "IIsket7U8sSb",
        "outputId": "5f92c8f1-295f-476c-db7a-1e59f4aee248"
      },
      "source": [
        "# Using list comprehension\n",
        "print([(item*100) for item in my_numbers if item > 3])"
      ],
      "execution_count": 18,
      "outputs": [
        {
          "output_type": "stream",
          "text": [
            "[400, 500, 600, 700]\n"
          ],
          "name": "stdout"
        }
      ]
    }
  ]
}